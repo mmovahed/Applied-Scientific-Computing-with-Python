{
  "nbformat": 4,
  "nbformat_minor": 0,
  "metadata": {
    "colab": {
      "provenance": []
    },
    "kernelspec": {
      "name": "python3",
      "display_name": "Python 3"
    },
    "language_info": {
      "name": "python"
    }
  },
  "cells": [
    {
      "cell_type": "markdown",
      "source": [
        "#Caputo fractional derivative\n",
        "\n"
      ],
      "metadata": {
        "id": "fAw8lidkEzEg"
      }
    },
    {
      "cell_type": "markdown",
      "source": [
        "$^C_0D^\\alpha_t y(t_n) = - y(t), \\quad 0 < \\alpha < 1$\n",
        "\n",
        "$y(0)=1$\n"
      ],
      "metadata": {
        "id": "xcQ2j39aKeDi"
      }
    },
    {
      "cell_type": "markdown",
      "source": [
        "#L1 Discretization\n"
      ],
      "metadata": {
        "id": "DUM4yIrxHmhs"
      }
    },
    {
      "cell_type": "markdown",
      "source": [
        "\n",
        "1.   Time Discretization: Divide the time interval $[0,T]$ into $N$ equal subintervals of length $h=\\frac{T}{N}$. The time points are $t_k = kh$ for $k=0,1,...,N$.\n",
        "\n",
        "2.   L1 Approximation: The Caputo fractional derivative at time $t_n$ is approximated using the L1 method:\n",
        "\n",
        "$^C_0D^\\alpha_t y(t_n) ≈ \\frac{1}{h^\\alpha} \\sum_{k=0}^{n-1} b_{n-k} y(t_k)$,\n",
        "\n",
        "where the coefficients $b_{n-k}$ are given by:\n",
        "\n",
        "$b_{n-k} = (n-k+1)^{1-\\alpha} - (n-k)^{1-\\alpha}$\n",
        "\n",
        "3.   Discrete Form of the Differential Equation: Substitute the L1 approximation into the differential equation:\n",
        "\n",
        "$\\frac{1}{h^\\alpha} \\sum_{k=0}^{n-1} b_{n-k} y(t_k) = -y(t_n)$\n",
        "\n",
        "Rearrange to solve for $y(t_n)$:\n",
        "\n",
        "$ y(t_n) = \\frac{1}{1+h^\\alpha} \\sum_{k=0}^{n-1} b_{n-k} y(t_k) $\n"
      ],
      "metadata": {
        "id": "KRF4BDK0KY22"
      }
    },
    {
      "cell_type": "code",
      "execution_count": 33,
      "metadata": {
        "colab": {
          "base_uri": "https://localhost:8080/",
          "height": 879
        },
        "id": "0crhiOFvEW6j",
        "outputId": "bc1c4613-b7e1-4314-d467-569253b33798"
      },
      "outputs": [
        {
          "output_type": "stream",
          "name": "stdout",
          "text": [
            "Time points: [0.   0.01 0.02 0.03 0.04 0.05 0.06 0.07 0.08 0.09 0.1  0.11 0.12 0.13\n",
            " 0.14 0.15 0.16 0.17 0.18 0.19 0.2  0.21 0.22 0.23 0.24 0.25 0.26 0.27\n",
            " 0.28 0.29 0.3  0.31 0.32 0.33 0.34 0.35 0.36 0.37 0.38 0.39 0.4  0.41\n",
            " 0.42 0.43 0.44 0.45 0.46 0.47 0.48 0.49 0.5  0.51 0.52 0.53 0.54 0.55\n",
            " 0.56 0.57 0.58 0.59 0.6  0.61 0.62 0.63 0.64 0.65 0.66 0.67 0.68 0.69\n",
            " 0.7  0.71 0.72 0.73 0.74 0.75 0.76 0.77 0.78 0.79 0.8  0.81 0.82 0.83\n",
            " 0.84 0.85 0.86 0.87 0.88 0.89 0.9  0.91 0.92 0.93 0.94 0.95 0.96 0.97\n",
            " 0.98 0.99 1.  ]\n",
            "y values: [1.         0.03482648 0.02215167 0.01661655 0.01344438 0.01136634\n",
            " 0.00989022 0.00878282 0.0079186  0.00722372 0.00665177 0.00617204\n",
            " 0.00576337 0.00541068 0.00510292 0.00483181 0.004591   0.00437555\n",
            " 0.00418155 0.00400585 0.00384592 0.00369966 0.00356535 0.00344154\n",
            " 0.00332701 0.00322072 0.00312178 0.00302945 0.00294306 0.00286203\n",
            " 0.00278587 0.00271414 0.00264645 0.00258247 0.00252187 0.0024644\n",
            " 0.00240981 0.00235788 0.00230842 0.00226125 0.00221621 0.00217315\n",
            " 0.00213194 0.00209247 0.00205461 0.00201827 0.00198336 0.00194979\n",
            " 0.00191749 0.00188637 0.00185638 0.00182746 0.00179953 0.00177256\n",
            " 0.0017465  0.00172128 0.00169689 0.00167326 0.00165037 0.00162818\n",
            " 0.00160666 0.00158578 0.00156551 0.00154582 0.00152668 0.00150808\n",
            " 0.00148998 0.00147238 0.00145524 0.00143855 0.00142229 0.00140645\n",
            " 0.001391   0.00137593 0.00136124 0.00134689 0.00133289 0.00131922\n",
            " 0.00130586 0.00129281 0.00128005 0.00126758 0.00125539 0.00124345\n",
            " 0.00123178 0.00122035 0.00120917 0.00119821 0.00118748 0.00117697\n",
            " 0.00116667 0.00115657 0.00114668 0.00113697 0.00112745 0.00111811\n",
            " 0.00110895 0.00109996 0.00109113 0.00108246 0.00107396]\n"
          ]
        },
        {
          "output_type": "display_data",
          "data": {
            "text/plain": [
              "<Figure size 500x500 with 1 Axes>"
            ],
            "image/png": "[encoded data removed]"
          },
          "metadata": {}
        }
      ],
      "source": [
        "import numpy as np\n",
        "\n",
        "def l1_coefficients(n, alpha):\n",
        "    return [(n - k + 1)**(1 - alpha) - (n - k)**(1 - alpha) for k in range(n)]\n",
        "\n",
        "def l1_method(alpha, T, N):\n",
        "    h = T / N\n",
        "    y = np.zeros(N + 1)\n",
        "    y[0] = 1  # initial condition y(0) = 1\n",
        "\n",
        "    for n in range(1, N + 1):\n",
        "        coeffs = l1_coefficients(n, alpha)\n",
        "        sum_b_y = sum(coeffs[k] * y[k] for k in range(n))\n",
        "        y[n] = (1 / (1 + h**alpha)) * sum_b_y\n",
        "\n",
        "    return y\n",
        "\n",
        "# Parameters\n",
        "alpha = 0.95\n",
        "T = 1\n",
        "N = 100\n",
        "\n",
        "y_values = l1_method(alpha, T, N)\n",
        "print(\"Time points:\", np.linspace(0, T, N + 1))\n",
        "print(\"y values:\", y_values)\n",
        "\n",
        "import matplotlib.pyplot as plt\n",
        "\n",
        "fig, axs = plt.subplots(1, 1, figsize=(5, 5))\n",
        "\n",
        "axs.plot(np.linspace(0, T, N + 1), y_values, \"g-\", label=\"y\")\n",
        "axs.legend()\n",
        "fig.show()\n",
        "plt.show()"
      ]
    },
    {
      "cell_type": "markdown",
      "source": [
        "#L2 Discretization\n"
      ],
      "metadata": {
        "id": "dozW72jZPZOQ"
      }
    },
    {
      "cell_type": "markdown",
      "source": [
        "\n",
        "1.   Time Discretization: Divide the time interval $[0,T]$ into $N$ equal subintervals of length $h=\\frac{T}{N}$. The time points are $t_k = kh$ for $k=0,1,...,N$.\n",
        "\n",
        "2.   L1 Approximation: The Caputo fractional derivative at time $t_n$ is approximated using the L2 method:\n",
        "\n",
        "$^C_0D^\\alpha_t y(t_n) \\approx \\frac{1}{h^\\alpha} \\sum_{k=0}^{n-1} A_{n-k} y(t_k) + B_n y(t_n)$,\n",
        "\n",
        "where the coefficients $A_{n-k}$ and $B_n$ are given by:\n",
        "\n",
        "$A_{n-k} = ((n-k+1)^{2-\\alpha} - (n-k)^{2-\\alpha}) - ((n-k)^{2-\\alpha} - (n-k-1)^{2-\\alpha})$\n",
        "\n",
        "$B_{n} = (1-\\alpha) (n^{1-\\alpha} - (n-1)^{1-\\alpha})$\n",
        "\n",
        "3.   Discrete Form of the Differential Equation: Substitute the L2 approximation into the differential equation:\n",
        "\n",
        "$\\frac{1}{h^\\alpha} \\sum_{k=0}^{n-1} A_{n-k} y(t_k) + B_n y(t_n) = -y(t_n)$\n",
        "\n",
        "Rearrange to solve for $y(t_n)$:\n",
        "\n",
        "$ y(t_n) = \\frac{\\sum_{k=0}^{n-1} A_{n-k} y(t_k)}{h^\\alpha - B_n} $\n"
      ],
      "metadata": {
        "id": "6u76m9j-Pe8d"
      }
    },
    {
      "cell_type": "code",
      "source": [
        "import numpy as np\n",
        "\n",
        "def l2_coefficients(n, alpha):\n",
        "    A = [(n - k + 1)**(2 - alpha) - (n - k)**(2 - alpha) - ((n - k)**(2 - alpha) - (n - k - 1)**(2 - alpha)) for k in range(n)]\n",
        "    B = (1 - alpha) * (n**(1 - alpha) - (n - 1)**(1 - alpha))\n",
        "    return A, B\n",
        "\n",
        "def l2_method(alpha, T, N):\n",
        "    h = T / N\n",
        "    y = np.zeros(N + 1)\n",
        "    y[0] = 1  # initial condition y(0) = 1\n",
        "\n",
        "    for n in range(1, N + 1):\n",
        "        A, B = l2_coefficients(n, alpha)\n",
        "        sum_A_y = sum(A[k] * y[k] for k in range(n))\n",
        "        y[n] = sum_A_y / (h**alpha - B)\n",
        "\n",
        "    return y\n",
        "\n",
        "# Parameters\n",
        "alpha = 0.95\n",
        "T = 1\n",
        "N = 100\n",
        "\n",
        "y_values = l2_method(alpha, T, N)\n",
        "print(\"Time points:\", np.linspace(0, T, N + 1))\n",
        "print(\"y values:\", y_values)\n",
        "\n",
        "\n",
        "import matplotlib.pyplot as plt\n",
        "\n",
        "fig, axs = plt.subplots(1, 1, figsize=(5, 5))\n",
        "\n",
        "axs.plot(np.linspace(0, T, N + 1), y_values, \"g-\", label=\"y\")\n",
        "axs.legend()\n",
        "fig.show()\n",
        "plt.show()"
      ],
      "metadata": {
        "colab": {
          "base_uri": "https://localhost:8080/",
          "height": 1000
        },
        "id": "DTn4_IhCOQLm",
        "outputId": "c7318443-ca14-47eb-d63d-d633c7c0ff21"
      },
      "execution_count": 34,
      "outputs": [
        {
          "output_type": "stream",
          "name": "stdout",
          "text": [
            "Time points: [0.   0.01 0.02 0.03 0.04 0.05 0.06 0.07 0.08 0.09 0.1  0.11 0.12 0.13\n",
            " 0.14 0.15 0.16 0.17 0.18 0.19 0.2  0.21 0.22 0.23 0.24 0.25 0.26 0.27\n",
            " 0.28 0.29 0.3  0.31 0.32 0.33 0.34 0.35 0.36 0.37 0.38 0.39 0.4  0.41\n",
            " 0.42 0.43 0.44 0.45 0.46 0.47 0.48 0.49 0.5  0.51 0.52 0.53 0.54 0.55\n",
            " 0.56 0.57 0.58 0.59 0.6  0.61 0.62 0.63 0.64 0.65 0.66 0.67 0.68 0.69\n",
            " 0.7  0.71 0.72 0.73 0.74 0.75 0.76 0.77 0.78 0.79 0.8  0.81 0.82 0.83\n",
            " 0.84 0.85 0.86 0.87 0.88 0.89 0.9  0.91 0.92 0.93 0.94 0.95 0.96 0.97\n",
            " 0.98 0.99 1.  ]\n",
            "y values: [ 1.00000000e+00 -1.88528312e+00 -9.66436582e+00 -6.21243084e+01\n",
            " -3.95536490e+02 -2.49041236e+03 -1.55608445e+04 -9.67057573e+04\n",
            " -5.98602549e+05 -3.69395215e+06 -2.27397453e+07 -1.39707306e+08\n",
            " -8.56916520e+08 -5.24874784e+09 -3.21113134e+10 -1.96252465e+11\n",
            " -1.19834842e+12 -7.31152860e+12 -4.45788331e+13 -2.71629453e+14\n",
            " -1.65416945e+15 -1.00684237e+16 -6.12549926e+16 -3.72509650e+17\n",
            " -2.26446129e+18 -1.37605906e+19 -8.35922357e+19 -5.07647294e+20\n",
            " -3.08201618e+21 -1.87065160e+22 -1.13512496e+23 -6.88642899e+23\n",
            " -4.17686403e+24 -2.53290048e+25 -1.53568661e+26 -9.30911668e+26\n",
            " -5.64209088e+27 -3.41901798e+28 -2.07155304e+29 -1.25495305e+30\n",
            " -7.60149076e+30 -4.60376176e+31 -2.78786910e+32 -1.68802894e+33\n",
            " -1.02196897e+34 -6.18654281e+34 -3.74466408e+35 -2.26638739e+36\n",
            " -1.37155636e+37 -8.29952205e+37 -5.02173744e+38 -3.03821080e+39\n",
            " -1.83800290e+40 -1.11183461e+41 -6.72513724e+41 -4.06752526e+42\n",
            " -2.45996332e+43 -1.48763824e+44 -8.99574990e+44 -5.43938380e+45\n",
            " -3.28878313e+46 -1.98835917e+47 -1.20206880e+48 -7.26673779e+48\n",
            " -4.39264468e+49 -2.65515450e+50 -1.60483850e+51 -9.69954454e+51\n",
            " -5.86206243e+52 -3.54265796e+53 -2.14085999e+54 -1.29368372e+55\n",
            " -7.81716512e+55 -4.72337352e+56 -2.85389249e+57 -1.72427171e+58\n",
            " -1.04173443e+59 -6.29349637e+59 -3.80199039e+60 -2.29675410e+61\n",
            " -1.38740363e+62 -8.38062407e+62 -5.06215518e+63 -3.05759847e+64\n",
            " -1.84676520e+65 -1.11539698e+66 -6.73649671e+66 -4.06842106e+67\n",
            " -2.45699983e+68 -1.48378876e+69 -8.96039208e+69 -5.41090855e+70\n",
            " -3.26739673e+71 -1.97297818e+72 -1.19132888e+73 -7.19333451e+73\n",
            " -4.34328437e+74 -2.62238172e+75 -1.58330067e+76 -9.55918630e+76\n",
            " -5.77123416e+77]\n"
          ]
        },
        {
          "output_type": "display_data",
          "data": {
            "text/plain": [
              "<Figure size 500x500 with 1 Axes>"
            ],
            "image/png": "[encoded data removed]"
          },
          "metadata": {}
        }
      ]
    }
  ]
}