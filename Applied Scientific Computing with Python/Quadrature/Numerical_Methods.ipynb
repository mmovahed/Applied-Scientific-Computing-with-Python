{
  "nbformat": 4,
  "nbformat_minor": 0,
  "metadata": {
    "colab": {
      "provenance": [],
      "authorship_tag": "ABX9TyMXJz0at8DlXQVgkJUIvSAr",
      "include_colab_link": true
    },
    "kernelspec": {
      "name": "python3",
      "display_name": "Python 3"
    },
    "language_info": {
      "name": "python"
    }
  },
  "cells": [
    {
      "cell_type": "markdown",
      "metadata": {
        "id": "view-in-github",
        "colab_type": "text"
      },
      "source": [
        "<a href=\"https://colab.research.google.com/github/mmovahed/Applied-Scientific-Computing-with-Python/blob/master/Applied%20Scientific%20Computing%20with%20Python/Quadrature/Numerical_Methods.ipynb\" target=\"_parent\"><img src=\"https://colab.research.google.com/assets/colab-badge.svg\" alt=\"Open In Colab\"/></a>"
      ]
    },
    {
      "cell_type": "markdown",
      "source": [
        "# The Newton-Cotes formulas"
      ],
      "metadata": {
        "id": "iNTcuAQIf31n"
      }
    },
    {
      "cell_type": "markdown",
      "source": [
        "$\\int_{a}^{b} f(x)dx$"
      ],
      "metadata": {
        "id": "i0BEwl3nz6f1"
      }
    },
    {
      "cell_type": "code",
      "execution_count": 4,
      "metadata": {
        "colab": {
          "base_uri": "https://localhost:8080/"
        },
        "id": "u_L9ouE3ONj7",
        "outputId": "0f50ee4e-3138-4cef-e9e4-b536ecd7a8e7"
      },
      "outputs": [
        {
          "output_type": "stream",
          "name": "stdout",
          "text": [
            "The integral of the function from 0 to 1 is approximately 0.7462\n"
          ]
        }
      ],
      "source": [
        "import numpy as np\n",
        "\n",
        "# Define the function to integrate\n",
        "def f(x):\n",
        "    return np.exp(-x**2)\n",
        "\n",
        "# Implement the composite trapezoidal rule\n",
        "def trapezoidal_rule(a, b, n):\n",
        "    h = (b - a) / n\n",
        "    x = np.linspace(a, b, n+1)\n",
        "    y = f(x)\n",
        "    integral = h * (0.5*y[0] + 0.5*y[-1] + np.sum(y[1:-1]))\n",
        "    return integral"
      ]
    },
    {
      "cell_type": "markdown",
      "source": [
        "# The trapezoidal rule\n"
      ],
      "metadata": {
        "id": "Qygb3JPEhZX3"
      }
    },
    {
      "cell_type": "code",
      "source": [
        "n = 1  # Number of subintervals\n",
        "integral_value = trapezoidal_rule(a, b, n)\n",
        "print(f\"The integral of the function from {a} to {b} is approximately {integral_value:.4f}\")"
      ],
      "metadata": {
        "colab": {
          "base_uri": "https://localhost:8080/"
        },
        "id": "30EoWwh4hPMC",
        "outputId": "39a77144-6069-4c96-a0a8-f31340c110ab"
      },
      "execution_count": 5,
      "outputs": [
        {
          "output_type": "stream",
          "name": "stdout",
          "text": [
            "The integral of the function from 0 to 1 is approximately 0.6839\n"
          ]
        }
      ]
    },
    {
      "cell_type": "markdown",
      "source": [
        "# The Simpson's rule"
      ],
      "metadata": {
        "id": "4mAvm0WUhv5v"
      }
    },
    {
      "cell_type": "code",
      "source": [
        "n = 2  # Number of subintervals\n",
        "integral_value = trapezoidal_rule(a, b, n)\n",
        "print(f\"The integral of the function from {a} to {b} is approximately {integral_value:.4f}\")"
      ],
      "metadata": {
        "colab": {
          "base_uri": "https://localhost:8080/"
        },
        "id": "RwhlU03JhSII",
        "outputId": "30ed289f-6d8c-40f0-afe9-c88208cef670"
      },
      "execution_count": 6,
      "outputs": [
        {
          "output_type": "stream",
          "name": "stdout",
          "text": [
            "The integral of the function from 0 to 1 is approximately 0.7314\n"
          ]
        }
      ]
    },
    {
      "cell_type": "markdown",
      "source": [
        "# The $\\frac{3}{8}$ Simpson's rule"
      ],
      "metadata": {
        "id": "NIh8AjmViF0n"
      }
    },
    {
      "cell_type": "code",
      "source": [
        "n = 3  # Number of subintervals\n",
        "integral_value = trapezoidal_rule(a, b, n)\n",
        "print(f\"The integral of the function from {a} to {b} is approximately {integral_value:.4f}\")"
      ],
      "metadata": {
        "colab": {
          "base_uri": "https://localhost:8080/"
        },
        "id": "kl7ht9dph9lR",
        "outputId": "868bfd8e-2834-4272-f7b9-281224b825ca"
      },
      "execution_count": 7,
      "outputs": [
        {
          "output_type": "stream",
          "name": "stdout",
          "text": [
            "The integral of the function from 0 to 1 is approximately 0.7400\n"
          ]
        }
      ]
    },
    {
      "cell_type": "markdown",
      "source": [
        "# The Gauss-Legendre quadrature rule"
      ],
      "metadata": {
        "id": "8qHM8ShdkhMw"
      }
    },
    {
      "cell_type": "code",
      "source": [
        "import numpy as np\n",
        "from scipy.integrate import quad\n",
        "\n",
        "# Define the function to integrate\n",
        "def f(x):\n",
        "    return np.exp(-x**2)\n",
        "\n",
        "# Calculate the integral using Gauss-Legendre quadrature\n",
        "def gauss_legendre_quadrature(func, a, b, n):\n",
        "    # Obtain the sample points and weights for Gauss-Legendre quadrature\n",
        "    x, w = np.polynomial.legendre.leggauss(n)\n",
        "    # Map sample points and weights from the interval [-1, 1] to [a, b]\n",
        "    t = 0.5*(x + 1)*(b - a) + a\n",
        "    integral = 0.5*(b - a)*np.sum(w * func(t))\n",
        "    return integral\n",
        "\n",
        "# Example usage\n",
        "a = 0  # Lower limit of integration\n",
        "b = 1  # Upper limit of integration\n",
        "n = 50  # Number of points\n",
        "\n",
        "integral_value = gauss_legendre_quadrature(f, a, b, n)\n",
        "print(f\"The integral of the function from {a} to {b} using Gauss-Legendre quadrature is approximately {integral_value:.4f}\")"
      ],
      "metadata": {
        "colab": {
          "base_uri": "https://localhost:8080/"
        },
        "id": "rOAg2cYMkRFr",
        "outputId": "983139a8-cd4c-46f6-98a5-2f6a5b09718d"
      },
      "execution_count": 9,
      "outputs": [
        {
          "output_type": "stream",
          "name": "stdout",
          "text": [
            "The integral of the function from 0 to 1 using Gauss-Legendre quadrature is approximately 0.7468\n"
          ]
        }
      ]
    },
    {
      "cell_type": "markdown",
      "source": [
        "# The Gauss-Chebyshev rule"
      ],
      "metadata": {
        "id": "5IK4wPFLnd9I"
      }
    },
    {
      "cell_type": "code",
      "source": [
        "import numpy as np\n",
        "\n",
        "# Define the function to integrate (without the weighting function)\n",
        "def f(x):\n",
        "    return np.exp(-x**2)\n",
        "\n",
        "# Gauss-Chebyshev quadrature\n",
        "def gauss_chebyshev_quadrature(func, a, b, n):\n",
        "\n",
        "    x, w = np.polynomial.chebyshev.chebgauss(n)\n",
        "    # Map sample points and weights from the interval [-1, 1] to [a, b]\n",
        "    t = 0.5*(x + 1)*(b - a) + a\n",
        "\n",
        "    # Compute the integral\n",
        "    integral = 0.5*(b - a)*np.sum(w * func(t))\n",
        "    return integral\n",
        "\n",
        "# Example usage\n",
        "n = 5  # Number of points\n",
        "\n",
        "integral_value = gauss_chebyshev_quadrature(f, a, b, n)\n",
        "print(f\"The integral of the function using Gauss-Chebyshev quadrature is approximately {integral_value:.4f}\")"
      ],
      "metadata": {
        "colab": {
          "base_uri": "https://localhost:8080/"
        },
        "id": "R6du3UAymHMi",
        "outputId": "3527727d-5502-417c-ce9f-3663c814eec1"
      },
      "execution_count": 18,
      "outputs": [
        {
          "output_type": "stream",
          "name": "stdout",
          "text": [
            "The integral of the function using Gauss-Chebyshev quadrature is approximately 1.1483\n"
          ]
        }
      ]
    },
    {
      "cell_type": "markdown",
      "source": [
        "# The the Gauss-Laguerre rule"
      ],
      "metadata": {
        "id": "GYlg-U6Vw1Me"
      }
    },
    {
      "cell_type": "markdown",
      "source": [
        "$\\int_{a}^{∞} f(x)dx$"
      ],
      "metadata": {
        "id": "ICJFgpL-xPTz"
      }
    },
    {
      "cell_type": "code",
      "source": [
        "import numpy as np\n",
        "\n",
        "def modified_gauss_laguerre_quadrature(func, deg, lower_bound):\n",
        "    # Obtain the sample points and weights for Gauss-Laguerre quadrature\n",
        "    xi, wi = np.polynomial.laguerre.laggauss(deg)\n",
        "\n",
        "    # Adjust the sample points for the lower bound\n",
        "    xi = xi + lower_bound\n",
        "\n",
        "    # Compute the integral approximation\n",
        "    integral = sum(wi * func(xi) * np.exp(-lower_bound))\n",
        "\n",
        "    return integral\n",
        "\n",
        "# Define the function to integrate\n",
        "def f(x):\n",
        "    return np.exp(-x**2)\n",
        "\n",
        "# Degree of the polynomial\n",
        "degree = 50  # You can increase the degree for higher accuracy\n",
        "\n",
        "# Lower bound of the integral\n",
        "lower_bound = 0  # Replace with your actual lower bound\n",
        "\n",
        "# Calculate the integral\n",
        "result = modified_gauss_laguerre_quadrature(f, degree, lower_bound)\n",
        "print(f\"The approximate integral from {lower_bound} to infinity is: {result}\")"
      ],
      "metadata": {
        "colab": {
          "base_uri": "https://localhost:8080/"
        },
        "id": "7IObHzmnwzK3",
        "outputId": "cc7da18f-5450-4666-d7bb-68df3289b3a6"
      },
      "execution_count": 17,
      "outputs": [
        {
          "output_type": "stream",
          "name": "stdout",
          "text": [
            "The approximate integral from 0 to infinity is: 0.5456413601496598\n"
          ]
        }
      ]
    }
  ]
}